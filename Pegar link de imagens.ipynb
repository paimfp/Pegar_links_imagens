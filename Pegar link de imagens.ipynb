{
 "cells": [
  {
   "cell_type": "code",
   "execution_count": 1,
   "metadata": {
    "scrolled": true
   },
   "outputs": [],
   "source": [
    "import os\n",
    "import requests\n",
    "from bs4 import BeautifulSoup\n",
    "\n",
    "url = 'https://www.gettyimages.pt/fotos/'\n",
    "\n",
    "nomes = [nome for nome in os.listdir('.') if (nome.endswith('jpg') or nome.endswith('png') or nome.endswith('JPG') or nome.endswith('PNG'))and (nome.startswith('gett'))]\n",
    "nomes\n",
    "\n",
    "codigos = []\n",
    "for nome in nomes:\n",
    "    codigo_nome = nome[nome.find('-')+1:nome.rfind('-')]\n",
    "    codigos.append(codigo_nome)\n",
    "codigos\n",
    "\n",
    "cont = 0\n",
    "with open('Links_imagens.txt', 'w') as f:\n",
    "    for cod in codigos:\n",
    "        source = requests.get(url + cod).text\n",
    "        soup = BeautifulSoup(source, \"html.parser\")\n",
    "        links = soup.find_all('a')\n",
    "        for link in links:\n",
    "            classe = link.get('class')\n",
    "            if classe == ['gallery-mosaic-asset__link'] or classe == ['search-result-asset-link']:\n",
    "                f.write('https://www.gettyimages.pt' + link.get('href')+'\\n')\n",
    "                cont+=1\n",
    "    f.write(f'\\nTotal de links encontrados: {cont}')"
   ]
  }
 ],
 "metadata": {
  "kernelspec": {
   "display_name": "Python 3",
   "language": "python",
   "name": "python3"
  },
  "language_info": {
   "codemirror_mode": {
    "name": "ipython",
    "version": 3
   },
   "file_extension": ".py",
   "mimetype": "text/x-python",
   "name": "python",
   "nbconvert_exporter": "python",
   "pygments_lexer": "ipython3",
   "version": "3.7.3"
  }
 },
 "nbformat": 4,
 "nbformat_minor": 4
}
