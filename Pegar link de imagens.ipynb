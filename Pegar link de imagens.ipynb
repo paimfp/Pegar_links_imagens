{
 "cells": [
  {
   "cell_type": "code",
   "execution_count": 1,
   "metadata": {
    "scrolled": true
   },
   "outputs": [],
   "source": [
    "import os\n",
    "import requests\n",
    "from bs4 import BeautifulSoup\n",
    "\n",
    "url = 'https://www.gettyimages.pt/fotos/'\n",
    "\n",
    "nomes = [nome for nome in os.listdir('.') if (nome.endswith('jpg') or nome.endswith('png') or nome.endswith('JPG') or nome.endswith('PNG'))and (nome.startswith('gett'))]\n",
    "\n",
    "codigos = []\n",
    "for nome in nomes:\n",
    "    codigo_nome = nome[nome.find('-')+1:nome.rfind('-')]\n",
    "    codigos.append(codigo_nome)\n",
    "\n",
    "cont = 0\n",
    "with open('Links_imagens.txt', 'w') as f:\n",
    "    for cod in codigos:\n",
    "        source = requests.get(url + cod).text\n",
    "        soup = BeautifulSoup(source, \"html.parser\")\n",
    "        for link in soup.find_all('link'):\n",
    "            if link.get('hreflang') == 'pt-BR':\n",
    "                f.write(link.get('href')+'\\n')\n",
    "                cont+=1\n",
    "                break\n",
    "    f.write(f'\\n\\nTotal de links encontrados: {cont}')"
   ]
  }
 ],
 "metadata": {
  "kernelspec": {
   "display_name": "Python 3",
   "language": "python",
   "name": "python3"
  },
  "language_info": {
   "codemirror_mode": {
    "name": "ipython",
    "version": 3
   },
   "file_extension": ".py",
   "mimetype": "text/x-python",
   "name": "python",
   "nbconvert_exporter": "python",
   "pygments_lexer": "ipython3",
   "version": "3.7.3"
  }
 },
 "nbformat": 4,
 "nbformat_minor": 4
}
